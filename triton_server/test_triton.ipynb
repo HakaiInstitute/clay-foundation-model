{
 "cells": [
  {
   "cell_type": "code",
   "id": "1661e497bb4bbced",
   "metadata": {
    "ExecuteTime": {
     "end_time": "2025-06-20T22:22:22.416406Z",
     "start_time": "2025-06-20T22:22:22.413822Z"
    }
   },
   "source": [
    "import numpy as np\n",
    "import tritonclient.grpc as grpcclient\n"
   ],
   "outputs": [],
   "execution_count": 11
  },
  {
   "metadata": {
    "ExecuteTime": {
     "end_time": "2025-06-20T22:22:22.593224Z",
     "start_time": "2025-06-20T22:22:22.590019Z"
    }
   },
   "cell_type": "code",
   "source": "client = grpcclient.InferenceServerClient(url=\"10.8.1.28:8001\")",
   "id": "858659c7d6241b18",
   "outputs": [],
   "execution_count": 12
  },
  {
   "metadata": {
    "ExecuteTime": {
     "end_time": "2025-06-20T22:22:22.871937Z",
     "start_time": "2025-06-20T22:22:22.863912Z"
    }
   },
   "cell_type": "code",
   "source": "image_data = np.random.randint(0, 10000, (1, 8, 224, 224), dtype=np.int64)",
   "id": "53a1156acfdf295d",
   "outputs": [],
   "execution_count": 13
  },
  {
   "metadata": {
    "ExecuteTime": {
     "end_time": "2025-06-20T22:22:44.237887Z",
     "start_time": "2025-06-20T22:22:43.942918Z"
    }
   },
   "cell_type": "code",
   "source": [
    "input_tensors = [grpcclient.InferInput(\"IMAGE\", image_data.shape, \"INT64\")]\n",
    "input_tensors[0].set_data_from_numpy(image_data)\n",
    "results = client.infer(model_name=\"kelp_segmentation_ps8b_ensemble\", inputs=input_tensors)\n",
    "output_data = results.as_numpy(\"SEGMENTATION\").astype(float)\n",
    "print(output_data.shape)"
   ],
   "id": "initial_id",
   "outputs": [
    {
     "name": "stdout",
     "output_type": "stream",
     "text": [
      "(1, 2, 224, 224)\n"
     ]
    }
   ],
   "execution_count": 15
  },
  {
   "metadata": {},
   "cell_type": "code",
   "outputs": [],
   "execution_count": null,
   "source": "",
   "id": "6bfb74c5d5ec0429"
  }
 ],
 "metadata": {
  "kernelspec": {
   "display_name": "Python 3",
   "language": "python",
   "name": "python3"
  },
  "language_info": {
   "codemirror_mode": {
    "name": "ipython",
    "version": 2
   },
   "file_extension": ".py",
   "mimetype": "text/x-python",
   "name": "python",
   "nbconvert_exporter": "python",
   "pygments_lexer": "ipython2",
   "version": "2.7.6"
  }
 },
 "nbformat": 4,
 "nbformat_minor": 5
}
